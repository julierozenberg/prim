{
 "metadata": {
  "name": "",
  "signature": "sha256:ef51a7c3b6e9168c2a4f2df168ebfbb6ef0cef75ee042cf1c1700dbdf944254e"
 },
 "nbformat": 3,
 "nbformat_minor": 0,
 "worksheets": [
  {
   "cells": [
    {
     "cell_type": "heading",
     "level": 1,
     "metadata": {},
     "source": [
      "This is an example of model that calculates expected annual losses given a set of uncertainty. The model is then ran many times"
     ]
    },
    {
     "cell_type": "heading",
     "level": 3,
     "metadata": {},
     "source": [
      "call packages"
     ]
    },
    {
     "cell_type": "code",
     "collapsed": false,
     "input": [
      "from pandas import DataFrame,concat,Series\n",
      "import numpy as np\n",
      "from scipy.interpolate import InterpolatedUnivariateSpline\n",
      "import matplotlib.pyplot as plt"
     ],
     "language": "python",
     "metadata": {},
     "outputs": [],
     "prompt_number": 1
    },
    {
     "cell_type": "code",
     "collapsed": false,
     "input": [
      "%matplotlib inline"
     ],
     "language": "python",
     "metadata": {},
     "outputs": [],
     "prompt_number": 2
    },
    {
     "cell_type": "heading",
     "level": 3,
     "metadata": {},
     "source": [
      "Inital conditions: data comes from the excel file. Let me know if they need to be updated."
     ]
    },
    {
     "cell_type": "code",
     "collapsed": false,
     "input": [
      "expected_losses=DataFrame()\n",
      "expected_losses['return_period']=[2,5,7,10,25,50,100]\n",
      "#numbers for losses come from (add ref). they are expressed in R$ million\n",
      "expected_losses['losses']=[104.5,252.1,351.5,504.9,1393.1,3446.7,16675]"
     ],
     "language": "python",
     "metadata": {},
     "outputs": [],
     "prompt_number": 3
    },
    {
     "cell_type": "code",
     "collapsed": false,
     "input": [
      "plt.plot(expected_losses['return_period'],expected_losses['losses'])\n",
      "plt.ylabel('Expected losses')\n",
      "plt.xlabel('Return period')"
     ],
     "language": "python",
     "metadata": {},
     "outputs": [
      {
       "metadata": {},
       "output_type": "pyout",
       "prompt_number": 4,
       "text": [
        "<matplotlib.text.Text at 0x5ab95f8>"
       ]
      },
      {
       "metadata": {},
       "output_type": "display_data",
       "png": "[encoded data removed]",
       "text": [
        "<matplotlib.figure.Figure at 0x5be8f28>"
       ]
      }
     ],
     "prompt_number": 4
    },
    {
     "cell_type": "heading",
     "level": 3,
     "metadata": {},
     "source": [
      "Possible options. please check cost data (unit in particular)"
     ]
    },
    {
     "cell_type": "code",
     "collapsed": false,
     "input": [
      "options=DataFrame(columns=['donothing','option1','option2','option3','option4'],index=['capex','opex','emergencyex','constructyr','avoided_losses'])\n",
      "\n",
      "#please check cost data (unit in particular)\n",
      "options['donothing']=[0,0,0,0,0]\n",
      "options['option1']=[91,4.6,18.8,3,252.1]\n",
      "options['option2']=[141,4.6,18.8,3,504.9]\n",
      "options['option3']=[303,4.6,18.8,4,1393.1]\n",
      "options['option4']=[594,4.6,18.8,5,3446.7]\n"
     ],
     "language": "python",
     "metadata": {},
     "outputs": [],
     "prompt_number": 5
    },
    {
     "cell_type": "code",
     "collapsed": false,
     "input": [
      "options"
     ],
     "language": "python",
     "metadata": {},
     "outputs": [
      {
       "html": [
        "<div style=\"max-height:1000px;max-width:1500px;overflow:auto;\">\n",
        "<table border=\"1\" class=\"dataframe\">\n",
        "  <thead>\n",
        "    <tr style=\"text-align: right;\">\n",
        "      <th></th>\n",
        "      <th>donothing</th>\n",
        "      <th>option1</th>\n",
        "      <th>option2</th>\n",
        "      <th>option3</th>\n",
        "      <th>option4</th>\n",
        "    </tr>\n",
        "  </thead>\n",
        "  <tbody>\n",
        "    <tr>\n",
        "      <th>capex</th>\n",
        "      <td> 0</td>\n",
        "      <td>  91.0</td>\n",
        "      <td> 141.0</td>\n",
        "      <td>  303.0</td>\n",
        "      <td>  594.0</td>\n",
        "    </tr>\n",
        "    <tr>\n",
        "      <th>opex</th>\n",
        "      <td> 0</td>\n",
        "      <td>   4.6</td>\n",
        "      <td>   4.6</td>\n",
        "      <td>    4.6</td>\n",
        "      <td>    4.6</td>\n",
        "    </tr>\n",
        "    <tr>\n",
        "      <th>emergencyex</th>\n",
        "      <td> 0</td>\n",
        "      <td>  18.8</td>\n",
        "      <td>  18.8</td>\n",
        "      <td>   18.8</td>\n",
        "      <td>   18.8</td>\n",
        "    </tr>\n",
        "    <tr>\n",
        "      <th>constructyr</th>\n",
        "      <td> 0</td>\n",
        "      <td>   3.0</td>\n",
        "      <td>   3.0</td>\n",
        "      <td>    4.0</td>\n",
        "      <td>    5.0</td>\n",
        "    </tr>\n",
        "    <tr>\n",
        "      <th>avoided_losses</th>\n",
        "      <td> 0</td>\n",
        "      <td> 252.1</td>\n",
        "      <td> 504.9</td>\n",
        "      <td> 1393.1</td>\n",
        "      <td> 3446.7</td>\n",
        "    </tr>\n",
        "  </tbody>\n",
        "</table>\n",
        "</div>"
       ],
       "metadata": {},
       "output_type": "pyout",
       "prompt_number": 6,
       "text": [
        "                donothing  option1  option2  option3  option4\n",
        "capex                   0     91.0    141.0    303.0    594.0\n",
        "opex                    0      4.6      4.6      4.6      4.6\n",
        "emergencyex             0     18.8     18.8     18.8     18.8\n",
        "constructyr             0      3.0      3.0      4.0      5.0\n",
        "avoided_losses          0    252.1    504.9   1393.1   3446.7"
       ]
      }
     ],
     "prompt_number": 6
    },
    {
     "cell_type": "heading",
     "level": 3,
     "metadata": {},
     "source": [
      "Fonction that calculates expected annual losses based on a table that contains frequency and losses for each frequency. Can take climate change into account"
     ]
    },
    {
     "cell_type": "code",
     "collapsed": false,
     "input": [
      "def annual_losses(expected_losses,cc=1):\n",
      "    '''\n",
      "    Calculates expected annual losses based on losses per return period event. The parameter cc is a scalar and represents\n",
      "    the modification in return periods due to climate change. The default value is no climate change (cc=1).\n",
      "    The function returns a scalar equal to expected annual losses for one given climate change scenario.\n",
      "    '''\n",
      "    cost=expected_losses.copy()\n",
      "    #modifies the return period because of climate change\n",
      "    cost['return_period']=cost['return_period']*cc\n",
      "    #keeps the last two points for extrapolation\n",
      "    last2=cost[-2::]\n",
      "    # choose extrapolation type. spline order: 1 linear, 2 quadratic, 3 cubic ... \n",
      "    order = 1 \n",
      "    # do extrapolation\n",
      "    s = InterpolatedUnivariateSpline(last2['return_period'], last2['losses'], k=order)\n",
      "    #we assume that losses stay constant after 200 years RP\n",
      "    new_points=DataFrame({'return_period':[100,200,1000],'losses':[s(100),s(200),s(200)]})\n",
      "    #concatenate the new points to the existing data\n",
      "    cost=concat([new_points,cost])\n",
      "    #sorts rows by return period\n",
      "    cost.sort(columns='return_period', inplace=True)\n",
      "    cost.index=range(len(cost))\n",
      "    cost['frequency']=1/cost['return_period']\n",
      "    #calculates the integral using the trapeze method\n",
      "    inte=0\n",
      "    for i in range(1,len(cost)):\n",
      "        trapeze =(cost.loc[i-1,'frequency']-cost.loc[i,'frequency'])*(cost.loc[i,'losses']+cost.loc[i-1,'losses'])/2\n",
      "        inte += trapeze\n",
      "    inte += cost.loc[len(cost)-1,'losses']*cost.loc[len(cost)-1,'frequency']\n",
      "    return inte"
     ],
     "language": "python",
     "metadata": {},
     "outputs": [],
     "prompt_number": 7
    },
    {
     "cell_type": "heading",
     "level": 5,
     "metadata": {},
     "source": [
      "Example with current data "
     ]
    },
    {
     "cell_type": "code",
     "collapsed": false,
     "input": [
      "annual_losses(expected_losses,cc=1)"
     ],
     "language": "python",
     "metadata": {},
     "outputs": [
      {
       "metadata": {},
       "output_type": "pyout",
       "prompt_number": 8,
       "text": [
        "660.20814285714289"
       ]
      }
     ],
     "prompt_number": 8
    },
    {
     "cell_type": "heading",
     "level": 3,
     "metadata": {},
     "source": [
      "The following function calculates expected annual losses every year for a given set of years. It includes climate change and population growth, as well as potential avoided losses if there is an investment in one of the options. Climate change may be gradually included year by year (frequency increases linearly every year)."
     ]
    },
    {
     "cell_type": "code",
     "collapsed": false,
     "input": [
      "def losses_trajectory(expected_losses,avoided_losses,pop_growth,years,cc):\n",
      "    cost=expected_losses.copy()\n",
      "    #actual losses that are smaller than avoided_losses are put to zero\n",
      "    cost.ix[cost['losses']<=avoided_losses,'losses']=0\n",
      "    #climate change is graduate\n",
      "    cc_factor = InterpolatedUnivariateSpline([years[0],years[-1]],[1,cc], k=1)\n",
      "    traj=list()\n",
      "    for i in years:\n",
      "        #losses grow linearly with population growth\n",
      "        cost['losses']=cost['losses']*(1+pop_growth)**i\n",
      "        #we calculate expected annual losses for year i\n",
      "        annuallosses=annual_losses(cost,cc=cc_factor(i))\n",
      "        traj.append(annuallosses)\n",
      "    return traj"
     ],
     "language": "python",
     "metadata": {},
     "outputs": [],
     "prompt_number": 12
    },
    {
     "cell_type": "heading",
     "level": 5,
     "metadata": {},
     "source": [
      "Exemple with pop_growth=0.001, no climate change and investment in option 2"
     ]
    },
    {
     "cell_type": "code",
     "collapsed": false,
     "input": [
      "years=range(0,50)\n",
      "cc=0.4\n",
      "pop_growth=0.001\n",
      "optionchosen='option4'\n",
      "baseline=np.array(losses_trajectory(expected_losses,options.ix['avoided_losses','donothing'],pop_growth,years,cc))\n",
      "invest=np.array(losses_trajectory(expected_losses,options.ix['avoided_losses',optionchosen],pop_growth,years,cc))\n",
      "plt.plot(years,baseline,'blue',label='baseline')\n",
      "plt.plot(years,invest,'green',label='investment in '+optionchosen)\n",
      "plt.legend(bbox_to_anchor=(1.05, 1), loc=2, borderaxespad=0.)\n",
      "#plt.plot(years,baseline-invest,'blue')\n",
      "plt.xlabel('Years')\n",
      "plt.xlabel('Expected annual losses')"
     ],
     "language": "python",
     "metadata": {},
     "outputs": [
      {
       "metadata": {},
       "output_type": "pyout",
       "prompt_number": 13,
       "text": [
        "<matplotlib.text.Text at 0x82f40b8>"
       ]
      },
      {
       "metadata": {},
       "output_type": "display_data",
       "png": "[encoded data removed]",
       "text": [
        "<matplotlib.figure.Figure at 0x8136cf8>"
       ]
      }
     ],
     "prompt_number": 13
    },
    {
     "cell_type": "heading",
     "level": 3,
     "metadata": {},
     "source": [
      "The following function calculates the total cost trajectory of the project (capex the first years and then opex and emergency costs)"
     ]
    },
    {
     "cell_type": "code",
     "collapsed": false,
     "input": [
      "def cost_trajectory(optionserie,years,cost_increase):\n",
      "    totcost=list()\n",
      "    for i in years:\n",
      "        if i<optionserie.constructyr:\n",
      "            totcost.append(optionserie.capex*(1+cost_increase)/optionserie.constructyr)\n",
      "        else:\n",
      "            totcost.append(optionserie.opex+optionserie.emergencyex)\n",
      "    return totcost"
     ],
     "language": "python",
     "metadata": {},
     "outputs": [],
     "prompt_number": 14
    },
    {
     "cell_type": "heading",
     "level": 5,
     "metadata": {},
     "source": [
      "example: flow of costs over time"
     ]
    },
    {
     "cell_type": "code",
     "collapsed": false,
     "input": [
      "totcost=cost_trajectory(options[optionchosen],years,0)\n",
      "plt.plot(years,totcost,'blue')\n",
      "plt.xlabel('Years')\n",
      "plt.ylabel('Flow of cost')"
     ],
     "language": "python",
     "metadata": {},
     "outputs": [
      {
       "metadata": {},
       "output_type": "pyout",
       "prompt_number": 15,
       "text": [
        "<matplotlib.text.Text at 0x813b518>"
       ]
      },
      {
       "metadata": {},
       "output_type": "display_data",
       "png": "[encoded data removed]",
       "text": [
        "<matplotlib.figure.Figure at 0x811a898>"
       ]
      }
     ],
     "prompt_number": 15
    },
    {
     "cell_type": "heading",
     "level": 3,
     "metadata": {},
     "source": [
      "This calculates the net present value of a flow of costs and a flow of benefits"
     ]
    },
    {
     "cell_type": "code",
     "collapsed": false,
     "input": [
      "def npv(benef,totcost,years,disc_rate):\n",
      "    disc_factor=[1/(1+disc_rate)**i for i in years]\n",
      "    out=sum(np.array(benef)/disc_factor-np.array(totcost)/disc_factor)\n",
      "    return out"
     ],
     "language": "python",
     "metadata": {},
     "outputs": [],
     "prompt_number": 19
    },
    {
     "cell_type": "heading",
     "level": 3,
     "metadata": {},
     "source": [
      "Exemple of NPV with one discount rate and one project"
     ]
    },
    {
     "cell_type": "code",
     "collapsed": false,
     "input": [
      "disc_rate=0.12\n",
      "optionchosen='option4'\n",
      "baseline=losses_trajectory(expected_losses,options.ix['avoided_losses','donothing'],pop_growth,years,cc)\n",
      "invest=losses_trajectory(expected_losses,options.ix['avoided_losses',optionchosen],pop_growth,years,cc)\n",
      "totcost=cost_trajectory(options[optionchosen],years,0)"
     ],
     "language": "python",
     "metadata": {},
     "outputs": [],
     "prompt_number": 20
    },
    {
     "cell_type": "code",
     "collapsed": false,
     "input": [
      "benef=np.array(baseline)-np.array(invest)\n",
      "NPV=npv(benef,totcost,years,disc_rate)"
     ],
     "language": "python",
     "metadata": {},
     "outputs": [],
     "prompt_number": 21
    },
    {
     "cell_type": "code",
     "collapsed": false,
     "input": [
      "NPV"
     ],
     "language": "python",
     "metadata": {},
     "outputs": [
      {
       "metadata": {},
       "output_type": "pyout",
       "prompt_number": 22,
       "text": [
        "1253382.0434048234"
       ]
      }
     ],
     "prompt_number": 22
    },
    {
     "cell_type": "heading",
     "level": 3,
     "metadata": {},
     "source": [
      "Function for the entire model"
     ]
    },
    {
     "cell_type": "code",
     "collapsed": false,
     "input": [
      "def model_run(expected_losses,options,optionchosen,pop_growth,years,cc,disc_rate,cost_increase):\n",
      "    '''\n",
      "    Return NPV and expected losses on the last year of the period\n",
      "    '''\n",
      "    #calculates baseline losses\n",
      "    baseline=np.array(losses_trajectory(expected_losses,options.ix['avoided_losses','donothing'],pop_growth,years,cc))\n",
      "    if optionchosen=='donothing':\n",
      "        NPV=0\n",
      "        losses_lastyr=baseline[-1]\n",
      "    else:\n",
      "        #losses with project\n",
      "        invest=np.array(losses_trajectory(expected_losses,options.ix['avoided_losses',optionchosen],pop_growth,years,cc))\n",
      "        #project cost\n",
      "        totcost=np.array(cost_trajectory(options[optionchosen],years,cost_increase))\n",
      "        benef=baseline-invest1\n",
      "        NPV=npv(benef,totcost,years,disc_rate)\n",
      "        losses_lastyr=invest[-1]\n",
      "    return NPV,losses_lastyr"
     ],
     "language": "python",
     "metadata": {},
     "outputs": [],
     "prompt_number": 23
    },
    {
     "cell_type": "heading",
     "level": 1,
     "metadata": {},
     "source": [
      "RDM analysis"
     ]
    },
    {
     "cell_type": "heading",
     "level": 3,
     "metadata": {},
     "source": [
      "Building the set of scenarios from uncertainties"
     ]
    },
    {
     "cell_type": "code",
     "collapsed": false,
     "input": [
      "ranges=DataFrame()\n",
      "ranges['variable']=['cc','pop_growth','disc_rate','cost_increase']\n",
      "ranges['min']=[0.4,0,0.06,0]\n",
      "ranges['max']=[1,0.02,0.12,0.3]\n",
      "ranges"
     ],
     "language": "python",
     "metadata": {},
     "outputs": [
      {
       "html": [
        "<div style=\"max-height:1000px;max-width:1500px;overflow:auto;\">\n",
        "<table border=\"1\" class=\"dataframe\">\n",
        "  <thead>\n",
        "    <tr style=\"text-align: right;\">\n",
        "      <th></th>\n",
        "      <th>variable</th>\n",
        "      <th>min</th>\n",
        "      <th>max</th>\n",
        "    </tr>\n",
        "  </thead>\n",
        "  <tbody>\n",
        "    <tr>\n",
        "      <th>0</th>\n",
        "      <td>            cc</td>\n",
        "      <td> 0.40</td>\n",
        "      <td> 1.00</td>\n",
        "    </tr>\n",
        "    <tr>\n",
        "      <th>1</th>\n",
        "      <td>    pop_growth</td>\n",
        "      <td> 0.00</td>\n",
        "      <td> 0.02</td>\n",
        "    </tr>\n",
        "    <tr>\n",
        "      <th>2</th>\n",
        "      <td>     disc_rate</td>\n",
        "      <td> 0.06</td>\n",
        "      <td> 0.12</td>\n",
        "    </tr>\n",
        "    <tr>\n",
        "      <th>3</th>\n",
        "      <td> cost_increase</td>\n",
        "      <td> 0.00</td>\n",
        "      <td> 0.30</td>\n",
        "    </tr>\n",
        "  </tbody>\n",
        "</table>\n",
        "</div>"
       ],
       "metadata": {},
       "output_type": "pyout",
       "prompt_number": 24,
       "text": [
        "        variable   min   max\n",
        "0             cc  0.40  1.00\n",
        "1     pop_growth  0.00  0.02\n",
        "2      disc_rate  0.06  0.12\n",
        "3  cost_increase  0.00  0.30"
       ]
      }
     ],
     "prompt_number": 24
    },
    {
     "cell_type": "heading",
     "level": 5,
     "metadata": {},
     "source": [
      "creates a table with all scenarios generated by the LHS sample"
     ]
    },
    {
     "cell_type": "code",
     "collapsed": false,
     "input": [
      "from pyDOE import lhs\n",
      "numUncertainties=len(ranges)\n",
      "numCases=1000\n",
      "lhsample= lhs(numUncertainties,numCases)\n",
      "#scale the lhs results to each range\n",
      "scenarios=lhsample*np.diff(ranges[['min','max']].values).T+ranges['min'].values\n",
      "#creates a dataframe\n",
      "scenarios=DataFrame(scenarios,columns=ranges['variable'])"
     ],
     "language": "python",
     "metadata": {},
     "outputs": [],
     "prompt_number": 25
    },
    {
     "cell_type": "heading",
     "level": 5,
     "metadata": {},
     "source": [
      "preview of the scenario table"
     ]
    },
    {
     "cell_type": "code",
     "collapsed": false,
     "input": [
      "scenarios.head()"
     ],
     "language": "python",
     "metadata": {},
     "outputs": [
      {
       "html": [
        "<div style=\"max-height:1000px;max-width:1500px;overflow:auto;\">\n",
        "<table border=\"1\" class=\"dataframe\">\n",
        "  <thead>\n",
        "    <tr style=\"text-align: right;\">\n",
        "      <th>variable</th>\n",
        "      <th>cc</th>\n",
        "      <th>pop_growth</th>\n",
        "      <th>disc_rate</th>\n",
        "      <th>cost_increase</th>\n",
        "    </tr>\n",
        "  </thead>\n",
        "  <tbody>\n",
        "    <tr>\n",
        "      <th>0</th>\n",
        "      <td> 0.725647</td>\n",
        "      <td> 0.016456</td>\n",
        "      <td> 0.060592</td>\n",
        "      <td> 0.057278</td>\n",
        "    </tr>\n",
        "    <tr>\n",
        "      <th>1</th>\n",
        "      <td> 0.523173</td>\n",
        "      <td> 0.014797</td>\n",
        "      <td> 0.090589</td>\n",
        "      <td> 0.052153</td>\n",
        "    </tr>\n",
        "    <tr>\n",
        "      <th>2</th>\n",
        "      <td> 0.942193</td>\n",
        "      <td> 0.005545</td>\n",
        "      <td> 0.084221</td>\n",
        "      <td> 0.014075</td>\n",
        "    </tr>\n",
        "    <tr>\n",
        "      <th>3</th>\n",
        "      <td> 0.492823</td>\n",
        "      <td> 0.019650</td>\n",
        "      <td> 0.105472</td>\n",
        "      <td> 0.100825</td>\n",
        "    </tr>\n",
        "    <tr>\n",
        "      <th>4</th>\n",
        "      <td> 0.934038</td>\n",
        "      <td> 0.014088</td>\n",
        "      <td> 0.075398</td>\n",
        "      <td> 0.063866</td>\n",
        "    </tr>\n",
        "  </tbody>\n",
        "</table>\n",
        "</div>"
       ],
       "metadata": {},
       "output_type": "pyout",
       "prompt_number": 26,
       "text": [
        "variable        cc  pop_growth  disc_rate  cost_increase\n",
        "0         0.725647    0.016456   0.060592       0.057278\n",
        "1         0.523173    0.014797   0.090589       0.052153\n",
        "2         0.942193    0.005545   0.084221       0.014075\n",
        "3         0.492823    0.019650   0.105472       0.100825\n",
        "4         0.934038    0.014088   0.075398       0.063866"
       ]
      }
     ],
     "prompt_number": 26
    },
    {
     "cell_type": "heading",
     "level": 3,
     "metadata": {},
     "source": [
      "Run the model for all scenarios and all options"
     ]
    },
    {
     "cell_type": "code",
     "collapsed": false,
     "input": [
      "years=range(0,50)\n",
      "results=DataFrame(columns=['cc','pop_growth','disc_rate','cost_increase','option','NPV','losses_lastyr'])\n",
      "for optionchosen in options.columns:\n",
      "    for i in scenarios.index:\n",
      "        (cc,pop_growth,disc_rate,cost_increase)=scenarios.loc[i,:]\n",
      "        NPV,losses_lastyr = model_run(expected_losses,options,optionchosen,pop_growth,years,cc,disc_rate,cost_increase)\n",
      "        results.loc[len(results),:]=[cc,pop_growth,disc_rate,cost_increase,optionchosen,NPV,losses_lastyr]"
     ],
     "language": "python",
     "metadata": {},
     "outputs": [],
     "prompt_number": 208
    },
    {
     "cell_type": "code",
     "collapsed": false,
     "input": [
      "results.to_csv(\"results_brazil_floods.csv\",index=False)"
     ],
     "language": "python",
     "metadata": {},
     "outputs": []
    }
   ],
   "metadata": {}
  }
 ]
}