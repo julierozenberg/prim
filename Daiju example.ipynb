{
 "metadata": {
  "name": "",
  "signature": "sha256:58dc133ffa758a8f1628f37e98b9c4f634e1c21825fcacfb95fcbad13fe6f84d"
 },
 "nbformat": 3,
 "nbformat_minor": 0,
 "worksheets": [
  {
   "cells": [
    {
     "cell_type": "heading",
     "level": 1,
     "metadata": {},
     "source": [
      "This is an example of model that calculates expected annual losses given a set of uncertainties. The model is then ran many times."
     ]
    },
    {
     "cell_type": "heading",
     "level": 3,
     "metadata": {},
     "source": [
      "call packages"
     ]
    },
    {
     "cell_type": "code",
     "collapsed": false,
     "input": [
      "from pandas import DataFrame,concat,Series\n",
      "import numpy as np\n",
      "from scipy.interpolate import InterpolatedUnivariateSpline\n",
      "import matplotlib.pyplot as plt"
     ],
     "language": "python",
     "metadata": {},
     "outputs": [],
     "prompt_number": 2
    },
    {
     "cell_type": "code",
     "collapsed": false,
     "input": [
      "%matplotlib inline"
     ],
     "language": "python",
     "metadata": {},
     "outputs": [],
     "prompt_number": 3
    },
    {
     "cell_type": "heading",
     "level": 3,
     "metadata": {},
     "source": [
      "Inital conditions: data comes from the excel file. Let me know if they need to be updated."
     ]
    },
    {
     "cell_type": "code",
     "collapsed": false,
     "input": [
      "expected_losses=DataFrame()\n",
      "expected_losses['return_period']=[2,5,7,10,25,50,100]\n",
      "#numbers for losses come from (add ref). they are expressed in R$ million\n",
      "expected_losses['losses']=[104.5,252.1,351.5,504.9,1393.1,3446.7,16675]"
     ],
     "language": "python",
     "metadata": {},
     "outputs": [],
     "prompt_number": 7
    },
    {
     "cell_type": "code",
     "collapsed": false,
     "input": [
      "expected_losses"
     ],
     "language": "python",
     "metadata": {},
     "outputs": [
      {
       "html": [
        "<div style=\"max-height:1000px;max-width:1500px;overflow:auto;\">\n",
        "<table border=\"1\" class=\"dataframe\">\n",
        "  <thead>\n",
        "    <tr style=\"text-align: right;\">\n",
        "      <th></th>\n",
        "      <th>return_period</th>\n",
        "      <th>losses</th>\n",
        "    </tr>\n",
        "  </thead>\n",
        "  <tbody>\n",
        "    <tr>\n",
        "      <th>0</th>\n",
        "      <td>   2</td>\n",
        "      <td>   104.5</td>\n",
        "    </tr>\n",
        "    <tr>\n",
        "      <th>1</th>\n",
        "      <td>   5</td>\n",
        "      <td>   252.1</td>\n",
        "    </tr>\n",
        "    <tr>\n",
        "      <th>2</th>\n",
        "      <td>   7</td>\n",
        "      <td>   351.5</td>\n",
        "    </tr>\n",
        "    <tr>\n",
        "      <th>3</th>\n",
        "      <td>  10</td>\n",
        "      <td>   504.9</td>\n",
        "    </tr>\n",
        "    <tr>\n",
        "      <th>4</th>\n",
        "      <td>  25</td>\n",
        "      <td>  1393.1</td>\n",
        "    </tr>\n",
        "    <tr>\n",
        "      <th>5</th>\n",
        "      <td>  50</td>\n",
        "      <td>  3446.7</td>\n",
        "    </tr>\n",
        "    <tr>\n",
        "      <th>6</th>\n",
        "      <td> 100</td>\n",
        "      <td> 16675.0</td>\n",
        "    </tr>\n",
        "  </tbody>\n",
        "</table>\n",
        "</div>"
       ],
       "metadata": {},
       "output_type": "pyout",
       "prompt_number": 8,
       "text": [
        "   return_period   losses\n",
        "0              2    104.5\n",
        "1              5    252.1\n",
        "2              7    351.5\n",
        "3             10    504.9\n",
        "4             25   1393.1\n",
        "5             50   3446.7\n",
        "6            100  16675.0"
       ]
      }
     ],
     "prompt_number": 8
    },
    {
     "cell_type": "code",
     "collapsed": false,
     "input": [
      "plt.plot(expected_losses['return_period'],expected_losses['losses'])\n",
      "plt.ylabel('Expected losses')\n",
      "plt.xlabel('Return period')"
     ],
     "language": "python",
     "metadata": {},
     "outputs": [
      {
       "metadata": {},
       "output_type": "pyout",
       "prompt_number": 6,
       "text": [
        "<matplotlib.text.Text at 0x576d048>"
       ]
      },
      {
       "metadata": {},
       "output_type": "display_data",
       "png": "[encoded data removed]",
       "text": [
        "<matplotlib.figure.Figure at 0x5880860>"
       ]
      }
     ],
     "prompt_number": 6
    },
    {
     "cell_type": "heading",
     "level": 3,
     "metadata": {},
     "source": [
      "Possible options. please check cost data (unit in particular)"
     ]
    },
    {
     "cell_type": "code",
     "collapsed": false,
     "input": [
      "options=DataFrame(columns=['donothing','option1','option2','option3','option4'],index=['capex','opex','emergency','constructyr','avoided_losses'])\n",
      "\n",
      "#please check cost data (unit should be R$ million)\n",
      "options['donothing']=[0,0,0,0,0]\n",
      "options['option1']=[91,4.6,18.8,3,252.1]\n",
      "options['option2']=[141,7.1,18.8,3,504.9]\n",
      "options['option3']=[303,15.2,18.8,4,1393.1]\n",
      "options['option4']=[594,29.7,18.8,5,3446.7]\n"
     ],
     "language": "python",
     "metadata": {},
     "outputs": [],
     "prompt_number": 9
    },
    {
     "cell_type": "code",
     "collapsed": false,
     "input": [
      "options"
     ],
     "language": "python",
     "metadata": {},
     "outputs": [
      {
       "html": [
        "<div style=\"max-height:1000px;max-width:1500px;overflow:auto;\">\n",
        "<table border=\"1\" class=\"dataframe\">\n",
        "  <thead>\n",
        "    <tr style=\"text-align: right;\">\n",
        "      <th></th>\n",
        "      <th>donothing</th>\n",
        "      <th>option1</th>\n",
        "      <th>option2</th>\n",
        "      <th>option3</th>\n",
        "      <th>option4</th>\n",
        "    </tr>\n",
        "  </thead>\n",
        "  <tbody>\n",
        "    <tr>\n",
        "      <th>capex</th>\n",
        "      <td> 0</td>\n",
        "      <td>  91.0</td>\n",
        "      <td> 141.0</td>\n",
        "      <td>  303.0</td>\n",
        "      <td>  594.0</td>\n",
        "    </tr>\n",
        "    <tr>\n",
        "      <th>opex</th>\n",
        "      <td> 0</td>\n",
        "      <td>   4.6</td>\n",
        "      <td>   7.1</td>\n",
        "      <td>   15.2</td>\n",
        "      <td>   29.7</td>\n",
        "    </tr>\n",
        "    <tr>\n",
        "      <th>emergency</th>\n",
        "      <td> 0</td>\n",
        "      <td>  18.8</td>\n",
        "      <td>  18.8</td>\n",
        "      <td>   18.8</td>\n",
        "      <td>   18.8</td>\n",
        "    </tr>\n",
        "    <tr>\n",
        "      <th>constructyr</th>\n",
        "      <td> 0</td>\n",
        "      <td>   3.0</td>\n",
        "      <td>   3.0</td>\n",
        "      <td>    4.0</td>\n",
        "      <td>    5.0</td>\n",
        "    </tr>\n",
        "    <tr>\n",
        "      <th>avoided_losses</th>\n",
        "      <td> 0</td>\n",
        "      <td> 252.1</td>\n",
        "      <td> 504.9</td>\n",
        "      <td> 1393.1</td>\n",
        "      <td> 3446.7</td>\n",
        "    </tr>\n",
        "  </tbody>\n",
        "</table>\n",
        "</div>"
       ],
       "metadata": {},
       "output_type": "pyout",
       "prompt_number": 10,
       "text": [
        "                donothing  option1  option2  option3  option4\n",
        "capex                   0     91.0    141.0    303.0    594.0\n",
        "opex                    0      4.6      7.1     15.2     29.7\n",
        "emergency               0     18.8     18.8     18.8     18.8\n",
        "constructyr             0      3.0      3.0      4.0      5.0\n",
        "avoided_losses          0    252.1    504.9   1393.1   3446.7"
       ]
      }
     ],
     "prompt_number": 10
    },
    {
     "cell_type": "heading",
     "level": 3,
     "metadata": {},
     "source": [
      "Fonction that calculates expected annual losses based on the \"expected_losses\" table that contains frequency and losses for each frequency. Can take climate change into account"
     ]
    },
    {
     "cell_type": "code",
     "collapsed": false,
     "input": [
      "def annual_losses(expected_losses,cc=1):\n",
      "    '''\n",
      "    Calculates expected annual losses based on losses per return period event. The parameter cc is a scalar and represents\n",
      "    the modification in return periods due to climate change. The default value is no climate change (cc=1).\n",
      "    The function returns a scalar equal to expected annual losses for one given climate change scenario.\n",
      "    '''\n",
      "    cost=expected_losses.copy()\n",
      "    #modifies the return period because of climate change\n",
      "    cost['return_period']=cost['return_period']*cc\n",
      "    #keeps the last two points for extrapolation\n",
      "    last2=cost[-2::]\n",
      "    # choose extrapolation type. spline order: 1 linear, 2 quadratic, 3 cubic ... \n",
      "    order = 1 \n",
      "    # do extrapolation\n",
      "    s = InterpolatedUnivariateSpline(last2['return_period'], last2['losses'], k=order)\n",
      "    #we assume that losses stay constant after 200 years RP\n",
      "    new_points=DataFrame({'return_period':[100,200,1000],'losses':[s(100),s(200),s(200)]})\n",
      "    #concatenate the new points to the existing data\n",
      "    cost=concat([new_points,cost])\n",
      "    #sorts rows by return period\n",
      "    cost.sort(columns='return_period', inplace=True)\n",
      "    cost.index=range(len(cost))\n",
      "    cost['frequency']=1/cost['return_period']\n",
      "    #calculates the integral using the trapeze method\n",
      "    inte=0\n",
      "    for i in range(1,len(cost)):\n",
      "        trapeze =(cost.loc[i-1,'frequency']-cost.loc[i,'frequency'])*(cost.loc[i,'losses']+cost.loc[i-1,'losses'])/2\n",
      "        inte += trapeze\n",
      "    inte += cost.loc[len(cost)-1,'losses']*cost.loc[len(cost)-1,'frequency']\n",
      "    return inte"
     ],
     "language": "python",
     "metadata": {},
     "outputs": [],
     "prompt_number": 9
    },
    {
     "cell_type": "heading",
     "level": 5,
     "metadata": {},
     "source": [
      "Example with current data "
     ]
    },
    {
     "cell_type": "code",
     "collapsed": false,
     "input": [
      "annual_losses(expected_losses,cc=1)"
     ],
     "language": "python",
     "metadata": {},
     "outputs": [
      {
       "metadata": {},
       "output_type": "pyout",
       "prompt_number": 10,
       "text": [
        "660.20814285714289"
       ]
      }
     ],
     "prompt_number": 10
    },
    {
     "cell_type": "heading",
     "level": 3,
     "metadata": {},
     "source": [
      "The following function calculates expected annual losses every year for a given set of years. It includes climate change and population growth, as well as potential avoided losses if there is an investment in one of the options. Climate change may be gradually included year by year (frequency increases linearly every year)."
     ]
    },
    {
     "cell_type": "code",
     "collapsed": false,
     "input": [
      "def losses_trajectory(expected_losses,avoided_losses,pop_growth,years,cc):\n",
      "    cost=expected_losses.copy()\n",
      "    #losses that are smaller than the avoided_losses threshold are put to zero\n",
      "    cost.ix[cost['losses']<=avoided_losses,'losses']=0\n",
      "    #climate change is graduate: the coefficient is 1 in the first year and decreases to cc in the last year\n",
      "    cc_factor = InterpolatedUnivariateSpline([years[0],years[-1]],[1,cc], k=1)\n",
      "    traj=list()\n",
      "    for i in years:\n",
      "        #losses grow linearly with population growth\n",
      "        cost['losses']=cost['losses']*(1+pop_growth)**i\n",
      "        #we calculate expected annual losses for year i\n",
      "        annuallosses=annual_losses(cost,cc=cc_factor(i))\n",
      "        traj.append(annuallosses)\n",
      "    return traj"
     ],
     "language": "python",
     "metadata": {},
     "outputs": [],
     "prompt_number": 11
    },
    {
     "cell_type": "heading",
     "level": 5,
     "metadata": {},
     "source": [
      "Exemple with pop_growth=0.001, no climate change and investment in option 2"
     ]
    },
    {
     "cell_type": "code",
     "collapsed": false,
     "input": [
      "years=range(0,50)\n",
      "cc=0.4\n",
      "pop_growth=0.001\n",
      "optionchosen='option4'\n",
      "baseline=np.array(losses_trajectory(expected_losses,options.ix['avoided_losses','donothing'],pop_growth,years,cc))\n",
      "invest=np.array(losses_trajectory(expected_losses,options.ix['avoided_losses',optionchosen],pop_growth,years,cc))\n",
      "plt.figure(figsize=(8,6))\n",
      "plt.subplot(211)\n",
      "plt.plot(years,baseline,'blue',label='baseline')\n",
      "plt.plot(years,invest,'green',label='investment in '+optionchosen)\n",
      "plt.legend(bbox_to_anchor=(1.05, 1), loc=2, borderaxespad=0.)\n",
      "plt.xlabel('Years')\n",
      "plt.ylabel('Expected annual losses')\n",
      "plt.subplot(212)\n",
      "plt.plot(years,baseline-invest,'orange')\n",
      "plt.xlabel('Years')\n",
      "plt.ylabel('Benefit')"
     ],
     "language": "python",
     "metadata": {},
     "outputs": [
      {
       "metadata": {},
       "output_type": "pyout",
       "prompt_number": 12,
       "text": [
        "<matplotlib.text.Text at 0x826f9e8>"
       ]
      },
      {
       "metadata": {},
       "output_type": "display_data",
       "png": "[encoded data removed]",
       "text": [
        "<matplotlib.figure.Figure at 0x7fb9f98>"
       ]
      }
     ],
     "prompt_number": 12
    },
    {
     "cell_type": "heading",
     "level": 3,
     "metadata": {},
     "source": [
      "The following function calculates the total cost trajectory of the project (capex the first years and then opex and emergency costs)"
     ]
    },
    {
     "cell_type": "code",
     "collapsed": false,
     "input": [
      "def cost_trajectory(optionserie,years,cost_increase):\n",
      "    totcost=list()\n",
      "    for i in years:\n",
      "        if i<optionserie.constructyr:\n",
      "            totcost.append(optionserie.capex*(1+cost_increase)/optionserie.constructyr)\n",
      "        else:\n",
      "            totcost.append(optionserie.opex+optionserie.emergency)\n",
      "    return totcost"
     ],
     "language": "python",
     "metadata": {},
     "outputs": [],
     "prompt_number": 13
    },
    {
     "cell_type": "heading",
     "level": 5,
     "metadata": {},
     "source": [
      "example: flow of costs over time for option 4"
     ]
    },
    {
     "cell_type": "code",
     "collapsed": false,
     "input": [
      "totcost=cost_trajectory(options[optionchosen],years,0)\n",
      "plt.plot(years,totcost,'blue')\n",
      "plt.xlabel('Years')\n",
      "plt.ylabel('Flow of cost')"
     ],
     "language": "python",
     "metadata": {},
     "outputs": [
      {
       "metadata": {},
       "output_type": "pyout",
       "prompt_number": 14,
       "text": [
        "<matplotlib.text.Text at 0x8333e48>"
       ]
      },
      {
       "metadata": {},
       "output_type": "display_data",
       "png": "[encoded data removed]",
       "text": [
        "<matplotlib.figure.Figure at 0x7ea3eb8>"
       ]
      }
     ],
     "prompt_number": 14
    },
    {
     "cell_type": "heading",
     "level": 3,
     "metadata": {},
     "source": [
      "This calculates the net present value of a flow of costs and a flow of benefits"
     ]
    },
    {
     "cell_type": "code",
     "collapsed": false,
     "input": [
      "def npv(benef,totcost,years,disc_rate):\n",
      "    #discount factor\n",
      "    disc_factor=[1/(1+disc_rate)**i for i in years]\n",
      "    #npv\n",
      "    out=sum(np.array(benef)/disc_factor-np.array(totcost)/disc_factor)\n",
      "    return out"
     ],
     "language": "python",
     "metadata": {},
     "outputs": [],
     "prompt_number": 15
    },
    {
     "cell_type": "heading",
     "level": 3,
     "metadata": {},
     "source": [
      "Exemple of NPV with one discount rate and one project"
     ]
    },
    {
     "cell_type": "code",
     "collapsed": false,
     "input": [
      "disc_rate=0.12\n",
      "optionchosen='option4'\n",
      "baseline=losses_trajectory(expected_losses,options.ix['avoided_losses','donothing'],pop_growth,years,cc)\n",
      "invest=losses_trajectory(expected_losses,options.ix['avoided_losses',optionchosen],pop_growth,years,cc)\n",
      "totcost=cost_trajectory(options[optionchosen],years,0)"
     ],
     "language": "python",
     "metadata": {},
     "outputs": [],
     "prompt_number": 16
    },
    {
     "cell_type": "code",
     "collapsed": false,
     "input": [
      "benef=np.array(baseline)-np.array(invest)\n",
      "NPV=npv(benef,totcost,years,disc_rate)"
     ],
     "language": "python",
     "metadata": {},
     "outputs": [],
     "prompt_number": 17
    },
    {
     "cell_type": "code",
     "collapsed": false,
     "input": [
      "NPV"
     ],
     "language": "python",
     "metadata": {},
     "outputs": [
      {
       "metadata": {},
       "output_type": "pyout",
       "prompt_number": 18,
       "text": [
        "1193301.0418341178"
       ]
      }
     ],
     "prompt_number": 18
    },
    {
     "cell_type": "heading",
     "level": 3,
     "metadata": {},
     "source": [
      "Function for the entire model: calls all the functions defined previously, one by one"
     ]
    },
    {
     "cell_type": "code",
     "collapsed": false,
     "input": [
      "def model_run(expected_losses,options,optionchosen,pop_growth,years,cc,disc_rate,cost_increase):\n",
      "    '''\n",
      "    Return NPV and expected losses on the last year of the period\n",
      "    '''\n",
      "    #calculates baseline losses\n",
      "    baseline=np.array(losses_trajectory(expected_losses,options.ix['avoided_losses','donothing'],pop_growth,years,cc))\n",
      "    if optionchosen=='donothing':\n",
      "        NPV=0\n",
      "        losses_lastyr=baseline[-1]\n",
      "    else:\n",
      "        #losses with project\n",
      "        invest=np.array(losses_trajectory(expected_losses,options.ix['avoided_losses',optionchosen],pop_growth,years,cc))\n",
      "        #project cost\n",
      "        totcost=np.array(cost_trajectory(options[optionchosen],years,cost_increase))\n",
      "        benef=baseline-invest\n",
      "        NPV=npv(benef,totcost,years,disc_rate)\n",
      "        losses_lastyr=invest[-1]\n",
      "    return NPV,losses_lastyr"
     ],
     "language": "python",
     "metadata": {},
     "outputs": [],
     "prompt_number": 24
    },
    {
     "cell_type": "heading",
     "level": 1,
     "metadata": {},
     "source": [
      "RDM analysis"
     ]
    },
    {
     "cell_type": "heading",
     "level": 3,
     "metadata": {},
     "source": [
      "Building the set of scenarios from uncertainties"
     ]
    },
    {
     "cell_type": "code",
     "collapsed": false,
     "input": [
      "ranges=DataFrame()\n",
      "ranges['variable']=['cc','pop_growth','disc_rate','cost_increase']\n",
      "ranges['min']=[0.4,0,0.06,0]\n",
      "ranges['max']=[1,0.02,0.12,0.3]\n",
      "ranges"
     ],
     "language": "python",
     "metadata": {},
     "outputs": [
      {
       "html": [
        "<div style=\"max-height:1000px;max-width:1500px;overflow:auto;\">\n",
        "<table border=\"1\" class=\"dataframe\">\n",
        "  <thead>\n",
        "    <tr style=\"text-align: right;\">\n",
        "      <th></th>\n",
        "      <th>variable</th>\n",
        "      <th>min</th>\n",
        "      <th>max</th>\n",
        "    </tr>\n",
        "  </thead>\n",
        "  <tbody>\n",
        "    <tr>\n",
        "      <th>0</th>\n",
        "      <td>            cc</td>\n",
        "      <td> 0.40</td>\n",
        "      <td> 1.00</td>\n",
        "    </tr>\n",
        "    <tr>\n",
        "      <th>1</th>\n",
        "      <td>    pop_growth</td>\n",
        "      <td> 0.00</td>\n",
        "      <td> 0.02</td>\n",
        "    </tr>\n",
        "    <tr>\n",
        "      <th>2</th>\n",
        "      <td>     disc_rate</td>\n",
        "      <td> 0.06</td>\n",
        "      <td> 0.12</td>\n",
        "    </tr>\n",
        "    <tr>\n",
        "      <th>3</th>\n",
        "      <td> cost_increase</td>\n",
        "      <td> 0.00</td>\n",
        "      <td> 0.30</td>\n",
        "    </tr>\n",
        "  </tbody>\n",
        "</table>\n",
        "</div>"
       ],
       "metadata": {},
       "output_type": "pyout",
       "prompt_number": 25,
       "text": [
        "        variable   min   max\n",
        "0             cc  0.40  1.00\n",
        "1     pop_growth  0.00  0.02\n",
        "2      disc_rate  0.06  0.12\n",
        "3  cost_increase  0.00  0.30"
       ]
      }
     ],
     "prompt_number": 25
    },
    {
     "cell_type": "heading",
     "level": 5,
     "metadata": {},
     "source": [
      "creates a table with all scenarios generated by the LHS sample"
     ]
    },
    {
     "cell_type": "code",
     "collapsed": false,
     "input": [
      "from pyDOE import lhs\n",
      "numUncertainties=len(ranges)\n",
      "numCases=1000\n",
      "lhsample= lhs(numUncertainties,numCases)\n",
      "#scale the lhs results to each range\n",
      "scenarios=lhsample*np.diff(ranges[['min','max']].values).T+ranges['min'].values\n",
      "#creates a dataframe\n",
      "scenarios=DataFrame(scenarios,columns=ranges['variable'])"
     ],
     "language": "python",
     "metadata": {},
     "outputs": [],
     "prompt_number": 26
    },
    {
     "cell_type": "heading",
     "level": 5,
     "metadata": {},
     "source": [
      "preview of the scenario table"
     ]
    },
    {
     "cell_type": "code",
     "collapsed": false,
     "input": [
      "scenarios.head()"
     ],
     "language": "python",
     "metadata": {},
     "outputs": [
      {
       "html": [
        "<div style=\"max-height:1000px;max-width:1500px;overflow:auto;\">\n",
        "<table border=\"1\" class=\"dataframe\">\n",
        "  <thead>\n",
        "    <tr style=\"text-align: right;\">\n",
        "      <th>variable</th>\n",
        "      <th>cc</th>\n",
        "      <th>pop_growth</th>\n",
        "      <th>disc_rate</th>\n",
        "      <th>cost_increase</th>\n",
        "    </tr>\n",
        "  </thead>\n",
        "  <tbody>\n",
        "    <tr>\n",
        "      <th>0</th>\n",
        "      <td> 0.493263</td>\n",
        "      <td> 0.018290</td>\n",
        "      <td> 0.071510</td>\n",
        "      <td> 0.041591</td>\n",
        "    </tr>\n",
        "    <tr>\n",
        "      <th>1</th>\n",
        "      <td> 0.930937</td>\n",
        "      <td> 0.016603</td>\n",
        "      <td> 0.073557</td>\n",
        "      <td> 0.085405</td>\n",
        "    </tr>\n",
        "    <tr>\n",
        "      <th>2</th>\n",
        "      <td> 0.792633</td>\n",
        "      <td> 0.017717</td>\n",
        "      <td> 0.083729</td>\n",
        "      <td> 0.054407</td>\n",
        "    </tr>\n",
        "    <tr>\n",
        "      <th>3</th>\n",
        "      <td> 0.608278</td>\n",
        "      <td> 0.000750</td>\n",
        "      <td> 0.107719</td>\n",
        "      <td> 0.218528</td>\n",
        "    </tr>\n",
        "    <tr>\n",
        "      <th>4</th>\n",
        "      <td> 0.750518</td>\n",
        "      <td> 0.000689</td>\n",
        "      <td> 0.084133</td>\n",
        "      <td> 0.196265</td>\n",
        "    </tr>\n",
        "  </tbody>\n",
        "</table>\n",
        "</div>"
       ],
       "metadata": {},
       "output_type": "pyout",
       "prompt_number": 27,
       "text": [
        "variable        cc  pop_growth  disc_rate  cost_increase\n",
        "0         0.493263    0.018290   0.071510       0.041591\n",
        "1         0.930937    0.016603   0.073557       0.085405\n",
        "2         0.792633    0.017717   0.083729       0.054407\n",
        "3         0.608278    0.000750   0.107719       0.218528\n",
        "4         0.750518    0.000689   0.084133       0.196265"
       ]
      }
     ],
     "prompt_number": 27
    },
    {
     "cell_type": "heading",
     "level": 3,
     "metadata": {},
     "source": [
      "Run the model for all scenarios and all options"
     ]
    },
    {
     "cell_type": "code",
     "collapsed": false,
     "input": [
      "years=range(0,50)\n",
      "results=DataFrame(columns=['cc','pop_growth','disc_rate','cost_increase','option','NPV','losses_lastyr'])\n",
      "for optionchosen in options.columns:\n",
      "    for i in scenarios.index:\n",
      "        (cc,pop_growth,disc_rate,cost_increase)=scenarios.loc[i,:]\n",
      "        NPV,losses_lastyr = model_run(expected_losses,options,optionchosen,pop_growth,years,cc,disc_rate,cost_increase)\n",
      "        results.loc[len(results),:]=[cc,pop_growth,disc_rate,cost_increase,optionchosen,NPV,losses_lastyr]"
     ],
     "language": "python",
     "metadata": {},
     "outputs": [],
     "prompt_number": 28
    },
    {
     "cell_type": "code",
     "collapsed": false,
     "input": [
      "results.to_csv(\"results_brazil_floods.csv\",index=False)"
     ],
     "language": "python",
     "metadata": {},
     "outputs": [],
     "prompt_number": 29
    },
    {
     "cell_type": "code",
     "collapsed": false,
     "input": [
      "from pandas import read_csv\n",
      "results=read_csv(\"results_brazil_floods.csv\")"
     ],
     "language": "python",
     "metadata": {},
     "outputs": [],
     "prompt_number": 5
    },
    {
     "cell_type": "heading",
     "level": 3,
     "metadata": {},
     "source": [
      "Calculates robustness indicators"
     ]
    },
    {
     "cell_type": "heading",
     "level": 4,
     "metadata": {},
     "source": [
      "First indicator: mean divided by standard deviation (only left part of the distribution)"
     ]
    },
    {
     "cell_type": "code",
     "collapsed": false,
     "input": [
      "indicators=DataFrame(index=options.columns)\n",
      "for optionchosen in options.columns:\n",
      "    subdata=results.ix[results['option']==optionchosen,:]\n",
      "    mean_npv=np.mean(subdata['NPV'])\n",
      "    #condition is equal to 1 if the npv is lower than the mean and 0 otherwise\n",
      "    condition=(subdata['NPV']<mean_npv)+0\n",
      "    #conditional standard deviation\n",
      "    conditional_std=(sum(condition*(subdata['NPV']-mean_npv)**2)/sum(condition))**(1/2)\n",
      "    #fill in the matrix\n",
      "    indicators.ix[optionchosen,'mean_npv']=mean_npv\n",
      "    indicators.ix[optionchosen,'conditional_std']=conditional_std\n",
      "    if optionchosen=='donothing':\n",
      "        indicators.ix[optionchosen,'mean_std']=0\n",
      "    else:\n",
      "        indicators.ix[optionchosen,'mean_std']=mean_npv/(conditional_std)"
     ],
     "language": "python",
     "metadata": {},
     "outputs": [],
     "prompt_number": 33
    },
    {
     "cell_type": "code",
     "collapsed": false,
     "input": [
      "indicators"
     ],
     "language": "python",
     "metadata": {},
     "outputs": [
      {
       "html": [
        "<div style=\"max-height:1000px;max-width:1500px;overflow:auto;\">\n",
        "<table border=\"1\" class=\"dataframe\">\n",
        "  <thead>\n",
        "    <tr style=\"text-align: right;\">\n",
        "      <th></th>\n",
        "      <th>mean_npv</th>\n",
        "      <th>conditional_std</th>\n",
        "      <th>mean_std</th>\n",
        "    </tr>\n",
        "  </thead>\n",
        "  <tbody>\n",
        "    <tr>\n",
        "      <th>donothing</th>\n",
        "      <td> 0.000000e+00</td>\n",
        "      <td>          NaN</td>\n",
        "      <td> 0.000000</td>\n",
        "    </tr>\n",
        "    <tr>\n",
        "      <th>option1</th>\n",
        "      <td> 1.916531e+13</td>\n",
        "      <td> 1.846725e+13</td>\n",
        "      <td> 1.037800</td>\n",
        "    </tr>\n",
        "    <tr>\n",
        "      <th>option2</th>\n",
        "      <td> 3.291458e+13</td>\n",
        "      <td> 3.171572e+13</td>\n",
        "      <td> 1.037800</td>\n",
        "    </tr>\n",
        "    <tr>\n",
        "      <th>option3</th>\n",
        "      <td> 5.051085e+13</td>\n",
        "      <td> 4.867108e+13</td>\n",
        "      <td> 1.037800</td>\n",
        "    </tr>\n",
        "    <tr>\n",
        "      <th>option4</th>\n",
        "      <td> 3.820760e+13</td>\n",
        "      <td> 3.679867e+13</td>\n",
        "      <td> 1.038288</td>\n",
        "    </tr>\n",
        "  </tbody>\n",
        "</table>\n",
        "</div>"
       ],
       "metadata": {},
       "output_type": "pyout",
       "prompt_number": 34,
       "text": [
        "               mean_npv  conditional_std  mean_std\n",
        "donothing  0.000000e+00              NaN  0.000000\n",
        "option1    1.916531e+13     1.846725e+13  1.037800\n",
        "option2    3.291458e+13     3.171572e+13  1.037800\n",
        "option3    5.051085e+13     4.867108e+13  1.037800\n",
        "option4    3.820760e+13     3.679867e+13  1.038288"
       ]
      }
     ],
     "prompt_number": 34
    },
    {
     "cell_type": "heading",
     "level": 5,
     "metadata": {},
     "source": [
      "Option 1, 2 and 3 have the same value of the indicator! Option 4 is less good."
     ]
    },
    {
     "cell_type": "heading",
     "level": 4,
     "metadata": {},
     "source": [
      "Second indicator: max regret"
     ]
    },
    {
     "cell_type": "heading",
     "level": 6,
     "metadata": {},
     "source": [
      "checking the best performance"
     ]
    },
    {
     "cell_type": "code",
     "collapsed": false,
     "input": [
      "best_performance=max(results[\"NPV\"])"
     ],
     "language": "python",
     "metadata": {},
     "outputs": [],
     "prompt_number": 56
    },
    {
     "cell_type": "code",
     "collapsed": false,
     "input": [
      "results.ix[results[\"NPV\"]==best_performance,:]"
     ],
     "language": "python",
     "metadata": {},
     "outputs": [
      {
       "html": [
        "<div style=\"max-height:1000px;max-width:1500px;overflow:auto;\">\n",
        "<table border=\"1\" class=\"dataframe\">\n",
        "  <thead>\n",
        "    <tr style=\"text-align: right;\">\n",
        "      <th></th>\n",
        "      <th>cc</th>\n",
        "      <th>pop_growth</th>\n",
        "      <th>disc_rate</th>\n",
        "      <th>cost_increase</th>\n",
        "      <th>option</th>\n",
        "      <th>NPV</th>\n",
        "      <th>losses_lastyr</th>\n",
        "    </tr>\n",
        "  </thead>\n",
        "  <tbody>\n",
        "    <tr>\n",
        "      <th>3975</th>\n",
        "      <td> 0.4060846</td>\n",
        "      <td> 0.01998407</td>\n",
        "      <td> 0.1192809</td>\n",
        "      <td> 0.08940946</td>\n",
        "      <td> option3</td>\n",
        "      <td> 4.964395e+15</td>\n",
        "      <td> 6.398228e+13</td>\n",
        "    </tr>\n",
        "  </tbody>\n",
        "</table>\n",
        "</div>"
       ],
       "metadata": {},
       "output_type": "pyout",
       "prompt_number": 58,
       "text": [
        "             cc  pop_growth  disc_rate cost_increase   option           NPV  \\\n",
        "3975  0.4060846  0.01998407  0.1192809    0.08940946  option3  4.964395e+15   \n",
        "\n",
        "     losses_lastyr  \n",
        "3975  6.398228e+13  "
       ]
      }
     ],
     "prompt_number": 58
    },
    {
     "cell_type": "heading",
     "level": 5,
     "metadata": {},
     "source": [
      "calculating regret for each scenario"
     ]
    },
    {
     "cell_type": "code",
     "collapsed": false,
     "input": [
      "def calc_regret(x,option):\n",
      "    #calculates the best performance for one given scenario\n",
      "    best=max(x['NPV'])\n",
      "    #regret is the difference between NPV and the best NPV for this scenario\n",
      "    regret=best-x.ix[x['option']==option,'NPV']\n",
      "    return regret"
     ],
     "language": "python",
     "metadata": {},
     "outputs": [],
     "prompt_number": 13
    },
    {
     "cell_type": "code",
     "collapsed": false,
     "input": [
      "#regroup all options for each scenario (i.e. set of inputs) and then apply the function that calculates regret for each scenario\n",
      "sort_columns=['cc','pop_growth','disc_rate','cost_increase']\n",
      "for optionchosen in options.columns:\n",
      "    regret=results.groupby(sort_columns).apply(lambda x:calc_regret(x,optionchosen))\n",
      "    indicators.ix[optionchosen,'max_regret']=max(regret)\n",
      "    indicators.ix[optionchosen,'max_regret_overdonothing']=max(regret)/indicators.ix['donothing','max_regret']"
     ],
     "language": "python",
     "metadata": {},
     "outputs": [],
     "prompt_number": 35
    },
    {
     "cell_type": "code",
     "collapsed": false,
     "input": [
      "indicators"
     ],
     "language": "python",
     "metadata": {},
     "outputs": [
      {
       "html": [
        "<div style=\"max-height:1000px;max-width:1500px;overflow:auto;\">\n",
        "<table border=\"1\" class=\"dataframe\">\n",
        "  <thead>\n",
        "    <tr style=\"text-align: right;\">\n",
        "      <th></th>\n",
        "      <th>mean_npv</th>\n",
        "      <th>conditional_std</th>\n",
        "      <th>mean_std</th>\n",
        "      <th>max_regret</th>\n",
        "      <th>max_regret_overdonothing</th>\n",
        "    </tr>\n",
        "  </thead>\n",
        "  <tbody>\n",
        "    <tr>\n",
        "      <th>donothing</th>\n",
        "      <td> 0.000000e+00</td>\n",
        "      <td>          NaN</td>\n",
        "      <td> 0.000000</td>\n",
        "      <td> 4.964395e+15</td>\n",
        "      <td> 1.000000</td>\n",
        "    </tr>\n",
        "    <tr>\n",
        "      <th>option1</th>\n",
        "      <td> 1.916531e+13</td>\n",
        "      <td> 1.846725e+13</td>\n",
        "      <td> 1.037800</td>\n",
        "      <td> 3.080757e+15</td>\n",
        "      <td> 0.620570</td>\n",
        "    </tr>\n",
        "    <tr>\n",
        "      <th>option2</th>\n",
        "      <td> 3.291458e+13</td>\n",
        "      <td> 3.171572e+13</td>\n",
        "      <td> 1.037800</td>\n",
        "      <td> 1.729427e+15</td>\n",
        "      <td> 0.348366</td>\n",
        "    </tr>\n",
        "    <tr>\n",
        "      <th>option3</th>\n",
        "      <td> 5.051085e+13</td>\n",
        "      <td> 4.867108e+13</td>\n",
        "      <td> 1.037800</td>\n",
        "      <td> 0.000000e+00</td>\n",
        "      <td> 0.000000</td>\n",
        "    </tr>\n",
        "    <tr>\n",
        "      <th>option4</th>\n",
        "      <td> 3.820760e+13</td>\n",
        "      <td> 3.679867e+13</td>\n",
        "      <td> 1.038288</td>\n",
        "      <td> 2.155677e+15</td>\n",
        "      <td> 0.434228</td>\n",
        "    </tr>\n",
        "  </tbody>\n",
        "</table>\n",
        "</div>"
       ],
       "metadata": {},
       "output_type": "pyout",
       "prompt_number": 36,
       "text": [
        "               mean_npv  conditional_std  mean_std    max_regret  \\\n",
        "donothing  0.000000e+00              NaN  0.000000  4.964395e+15   \n",
        "option1    1.916531e+13     1.846725e+13  1.037800  3.080757e+15   \n",
        "option2    3.291458e+13     3.171572e+13  1.037800  1.729427e+15   \n",
        "option3    5.051085e+13     4.867108e+13  1.037800  0.000000e+00   \n",
        "option4    3.820760e+13     3.679867e+13  1.038288  2.155677e+15   \n",
        "\n",
        "           max_regret_overdonothing  \n",
        "donothing                  1.000000  \n",
        "option1                    0.620570  \n",
        "option2                    0.348366  \n",
        "option3                    0.000000  \n",
        "option4                    0.434228  "
       ]
      }
     ],
     "prompt_number": 36
    },
    {
     "cell_type": "heading",
     "level": 5,
     "metadata": {},
     "source": [
      "option 3 is the best option (higest NPV) whatever the scenario"
     ]
    },
    {
     "cell_type": "code",
     "collapsed": false,
     "input": [
      "results.groupby(sort_columns).apply(lambda x:calc_regret(x,'option3'))"
     ],
     "language": "python",
     "metadata": {},
     "outputs": [
      {
       "metadata": {},
       "output_type": "pyout",
       "prompt_number": 16,
       "text": [
        "cc        pop_growth  disc_rate  cost_increase      \n",
        "0.400566  0.009227    0.095609   0.063011       3852    0\n",
        "0.401044  0.017664    0.060621   0.038694       3148    0\n",
        "0.401780  0.013582    0.088647   0.009442       3211    0\n",
        "0.402135  0.017574    0.099794   0.025281       3392    0\n",
        "0.402761  0.002200    0.075611   0.297074       3212    0\n",
        "0.403415  0.013043    0.116031   0.102927       3871    0\n",
        "0.403718  0.002547    0.074966   0.292338       3660    0\n",
        "0.404238  0.018596    0.094136   0.031197       3152    0\n",
        "0.404960  0.002863    0.089775   0.169477       3634    0\n",
        "0.405773  0.001921    0.101704   0.189683       3206    0\n",
        "0.406085  0.019984    0.119281   0.089409       3975    0\n",
        "0.406922  0.013733    0.094743   0.154052       3455    0\n",
        "0.407228  0.015640    0.066959   0.043434       3504    0\n",
        "0.408052  0.000309    0.079630   0.135908       3936    0\n",
        "0.408834  0.004975    0.080115   0.141983       3330    0\n",
        "...\n",
        "0.991083  0.002468    0.114916   0.298798       3403    0\n",
        "0.992103  0.016378    0.064192   0.240407       3861    0\n",
        "0.992321  0.013221    0.075688   0.120224       3244    0\n",
        "0.992848  0.014584    0.112438   0.180675       3716    0\n",
        "0.993607  0.013479    0.087995   0.230534       3823    0\n",
        "0.994255  0.015489    0.081663   0.227944       3706    0\n",
        "0.995196  0.003285    0.082371   0.097913       3074    0\n",
        "0.995555  0.003825    0.095218   0.069226       3198    0\n",
        "0.995991  0.019754    0.060871   0.066505       3022    0\n",
        "0.996535  0.000594    0.072121   0.101623       3359    0\n",
        "0.997152  0.017957    0.085750   0.295089       3313    0\n",
        "0.998065  0.014437    0.104093   0.059568       3089    0\n",
        "0.998632  0.018495    0.063834   0.207066       3106    0\n",
        "0.998971  0.008924    0.111228   0.178531       3712    0\n",
        "0.999446  0.009671    0.088971   0.243319       3545    0\n",
        "Name: NPV, Length: 1000, dtype: float64"
       ]
      }
     ],
     "prompt_number": 16
    },
    {
     "cell_type": "code",
     "collapsed": false,
     "input": [
      "font = {'family' : 'normal',\n",
      "        'weight' : 'normal',\n",
      "        'size'   : 15}\n",
      "plt.rc('font', **font)\n",
      "plt.figure(figsize=(10,6))\n",
      "i=0\n",
      "for optionchosen in options.columns:\n",
      "    subdata=results.ix[results['option']==optionchosen,:]\n",
      "    plt.plot([i]*len(subdata['NPV']),subdata['NPV'],marker='x',markersize=5,\n",
      "         linestyle='None',color='blue',clip_on=False)\n",
      "    i+=1\n",
      "plt.plot(-1,0)\n",
      "plt.plot(5,0)\n",
      "plt.xlabel(\"options\")\n",
      "plt.ylabel(\"NPV\")"
     ],
     "language": "python",
     "metadata": {},
     "outputs": [
      {
       "metadata": {},
       "output_type": "pyout",
       "prompt_number": 24,
       "text": [
        "<matplotlib.text.Text at 0x8dd60b8>"
       ]
      },
      {
       "output_type": "stream",
       "stream": "stderr",
       "text": [
        "C:\\Miniconda3\\lib\\site-packages\\matplotlib\\font_manager.py:1236: UserWarning: findfont: Font family ['normal'] not found. Falling back to Bitstream Vera Sans\n",
        "  (prop.get_family(), self.defaultFamily[fontext]))\n"
       ]
      },
      {
       "metadata": {},
       "output_type": "display_data",
       "png": "[encoded data removed]",
       "text": [
        "<matplotlib.figure.Figure at 0x8ddb6a0>"
       ]
      }
     ],
     "prompt_number": 24
    },
    {
     "cell_type": "code",
     "collapsed": false,
     "input": [],
     "language": "python",
     "metadata": {},
     "outputs": []
    }
   ],
   "metadata": {}
  }
 ]
}