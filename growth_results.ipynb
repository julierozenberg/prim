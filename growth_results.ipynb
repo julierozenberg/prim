{
 "metadata": {
  "name": "",
  "signature": "sha256:883ecd6a50e47afb6620b9a2029d6ece71af91c19513c6f9bafaa594533fee8a"
 },
 "nbformat": 3,
 "nbformat_minor": 0,
 "worksheets": [
  {
   "cells": [
    {
     "cell_type": "code",
     "collapsed": false,
     "input": [
      "from analysis import prim\n",
      "from expWorkbench import ema_logging\n",
      "import numpy as np\n",
      "import pandas as pd\n",
      "import numpy.lib.recfunctions as recfunctions\n",
      "\n",
      "class fPrim(prim.Prim):\n",
      "    '''\n",
      "    This is a small extension to the normal prim. This \n",
      "    extension adds functionality for automatically\n",
      "    selecting a specific box on the peeling_trajectory\n",
      "    found by normal prim. In the literature, this is\n",
      "    known as fPrim. \n",
      "    \n",
      "    The automatic selection is based on making a \n",
      "    tradeoff between coverage and density. More \n",
      "    specifically, the user specifies an f_value (between 0 and 1)\n",
      "    that determines the weight of coverage, the weight\n",
      "    of density then becomes 1-f_value. \n",
      "    \n",
      "    The box on the peeling trajectory that is automatically chosen\n",
      "    is the box that has the maximum score on the objective function.\n",
      "    \n",
      "    Outside of the automatic selection of a box, this extension has\n",
      "    all the functionality of normal prim. \n",
      "    \n",
      "    \n",
      "    '''\n",
      "    \n",
      "    \n",
      "    def __init__(self, \n",
      "                 results,\n",
      "                 classify, \n",
      "                 f_value,\n",
      "                 obj_function=prim.DEFAULT, \n",
      "                 peel_alpha=0.05, \n",
      "                 paste_alpha=0.05,\n",
      "                 mass_min=0.05, \n",
      "                 threshold=None, \n",
      "                 threshold_type=prim.ABOVE,\n",
      "                 incl_unc=[]):\n",
      "        self.f_value = f_value\n",
      "        \n",
      "        super(fPrim, self).__init__(results, \n",
      "                                    classify,\n",
      "                                    obj_function=obj_function, \n",
      "                                    peel_alpha=peel_alpha, \n",
      "                                    paste_alpha=paste_alpha,\n",
      "                                    mass_min=mass_min, \n",
      "                                    threshold=threshold, \n",
      "                                    threshold_type=threshold_type,\n",
      "                                    incl_unc=incl_unc)\n",
      "        \n",
      "        \n",
      "    \n",
      "    def find_box(self):\n",
      "        box = super(fPrim, self).find_box()\n",
      "        \n",
      "        # here the f prim part should go\n",
      "        obj = self.f_value *box.peeling_trajectory['coverage'] + (1-self.f_value)*box.peeling_trajectory['density']\n",
      "        i = np.where(obj==np.max(obj))[0][0]\n",
      "        \n",
      "        box.select(i)\n",
      "        \n",
      "        return box\n",
      "        "
     ],
     "language": "python",
     "metadata": {},
     "outputs": [],
     "prompt_number": 1
    },
    {
     "cell_type": "code",
     "collapsed": false,
     "input": [
      "def load_data(folder,countrycode):\n",
      "    fn_exp = r'{}experiments{}.csv'.format(folder,countrycode)\n",
      "\n",
      "    experiments = pd.io.parsers.read_table(fn_exp, sep=',')\n",
      "    experiments = experiments.to_records()\n",
      "    experiments = recfunctions.drop_fields(experiments, 'index')\n",
      "\n",
      "    fn_out = r'{}outcomes{}.csv'.format(folder,countrycode)\n",
      "    outcomes = pd.io.parsers.read_table(fn_out, sep=',')\n",
      "    outcome_names = list(outcomes.columns.values)\n",
      "\n",
      "    outcomes = {name:np.asarray(outcomes[name]) for name in outcome_names}\n",
      "    return experiments, outcomes\n"
     ],
     "language": "python",
     "metadata": {},
     "outputs": [],
     "prompt_number": 11
    },
    {
     "cell_type": "code",
     "collapsed": false,
     "input": [
      "fn='C:/Users/julierozenberg/Documents/GitHub/growth_distribution_model/outputs_EAP_2014_09_16_gr08/'\n",
      "def_folder='C:/Users/julierozenberg/Documents/GitHub/growth_distribution_model/scenar_def/'\n",
      "cc='THA'"
     ],
     "language": "python",
     "metadata": {},
     "outputs": [],
     "prompt_number": 25
    },
    {
     "cell_type": "code",
     "collapsed": false,
     "input": [
      "results=load_data(fn,cc)\n",
      "experiments,outcomes=results"
     ],
     "language": "python",
     "metadata": {},
     "outputs": [],
     "prompt_number": 26
    },
    {
     "cell_type": "code",
     "collapsed": false,
     "input": [
      "#extract results for 1 policy\n",
      "logical = experiments['ssp'] == 'ssp5'\n",
      "new_experiments = experiments[ logical ]\n",
      "new_results = {}\n",
      "for key, value in outcomes.items():\n",
      "    new_results[key] = value[logical]\n",
      "\n",
      "results = (new_experiments, new_results)"
     ],
     "language": "python",
     "metadata": {},
     "outputs": [],
     "prompt_number": 27
    },
    {
     "cell_type": "code",
     "collapsed": false,
     "input": [
      "ema_logging.log_to_stderr(ema_logging.INFO)\n",
      "\n",
      "def threshold(new_results,variable):\n",
      "    th=np.percentile(new_results[variable],[50])\n",
      "    return th\n",
      "\n",
      "th_poor=threshold(new_results,'below1.25')\n",
      "th_nearpoor=threshold(new_results,'below4')\n",
      "th_bottom=threshold(new_results,'quintile2')\n",
      "\n",
      "def classify(data):\n",
      "    #get the output for poorpeople\n",
      "    poor = data['below1.25']\n",
      "    \n",
      "    #make an empty array of length equal to number of cases \n",
      "    classes =  np.zeros(poor.shape[0])\n",
      "    \n",
      "    #if poor people are below the 2nd quartile, classify as 1 \n",
      "    keep=(data['below1.25']<th_poor)&(data['quintile2']>th_bottom)\n",
      "    classes[keep] = 1\n",
      "    \n",
      "    return classes"
     ],
     "language": "python",
     "metadata": {},
     "outputs": [],
     "prompt_number": 38
    },
    {
     "cell_type": "code",
     "collapsed": false,
     "input": [
      "#perform prim on modified results tuple\n",
      "\n",
      "prim = fPrim(results, classify, f_value=1, threshold=0.8, threshold_type=1)"
     ],
     "language": "python",
     "metadata": {},
     "outputs": [],
     "prompt_number": 44
    },
    {
     "cell_type": "code",
     "collapsed": false,
     "input": [
      "box1 = prim.find_box()"
     ],
     "language": "python",
     "metadata": {},
     "outputs": [
      {
       "output_type": "stream",
       "stream": "stderr",
       "text": [
        "[INFO/MainProcess] 87 points remaining, containing 40 cases of interest\n"
       ]
      },
      {
       "output_type": "stream",
       "stream": "stderr",
       "text": [
        "[INFO/MainProcess] mean: 1.0, mass: 0.0574712643678, coverage: 0.125, density: 1.0 restricted_dimensions: 7\n"
       ]
      }
     ],
     "prompt_number": 45
    },
    {
     "cell_type": "code",
     "collapsed": false,
     "input": [
      "box1.inspect()"
     ],
     "language": "python",
     "metadata": {},
     "outputs": [
      {
       "output_type": "stream",
       "stream": "stdout",
       "text": [
        "box        mean      mass  coverage   density   res dim\n",
        "37            1     0.057      0.12         1         7\n",
        "\n",
        "uncertainty      box 37      \n",
        "                min       max    qp values\n",
        "shareemp       0.57 -    0.91     1.86e-01\n",
        "shareag        0.16 -    0.20     5.24e-01\n",
        "gr6            0.00 -    0.07     1.00e+00\n",
        "gr2            0.00 -    0.07     1.00e+00\n",
        "gr3            0.01 -    0.08     1.00e+00\n",
        "gr1            0.01 -    0.08     1.00e+00\n",
        "sharemanu      0.07 -    0.45     1.00e+00\n",
        "\n",
        "\n"
       ]
      }
     ],
     "prompt_number": 41
    },
    {
     "cell_type": "code",
     "collapsed": false,
     "input": [],
     "language": "python",
     "metadata": {},
     "outputs": []
    }
   ],
   "metadata": {}
  }
 ]
}