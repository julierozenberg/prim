{
 "metadata": {
  "name": "",
  "signature": "sha256:6e9fa04e274d37c824ed377a9603f035def2adff39f5b87417f0c44e8bf7ee1e"
 },
 "nbformat": 3,
 "nbformat_minor": 0,
 "worksheets": [
  {
   "cells": [
    {
     "cell_type": "code",
     "collapsed": false,
     "input": [
      "import numpy as np"
     ],
     "language": "python",
     "metadata": {},
     "outputs": [],
     "prompt_number": 1
    },
    {
     "cell_type": "code",
     "collapsed": false,
     "input": [
      "fn='C:/Users/julierozenberg/Documents/GitHub/growth_distribution_model/outputs_LAC_2014_09_22/'"
     ],
     "language": "python",
     "metadata": {},
     "outputs": [],
     "prompt_number": 2
    },
    {
     "cell_type": "code",
     "collapsed": false,
     "input": [
      "cc='BRA'"
     ],
     "language": "python",
     "metadata": {},
     "outputs": [],
     "prompt_number": 3
    },
    {
     "cell_type": "code",
     "collapsed": false,
     "input": [
      "from sklearn import tree\n",
      "import csv\n",
      "\n",
      "\n",
      "fn_exp = r'{}experiments{}.csv'.format(fn,cc)\n",
      "with open(fn_exp) as csvfile:\n",
      "    datareader = csv.reader(csvfile)\n",
      "    header = datareader.next()\n",
      "    numcols=len(header)\n",
      "    numrows=sum(1 for row in datareader)\n",
      "    experiments = np.empty((numrows,numcols))\n",
      "    for i, row in enumerate(datareader):\n",
      "        row = [float(entry) for entry in row]\n",
      "        experiments[i, :] = row\n",
      "        \n",
      "fn_out = r'{}outcomes{}.csv'.format(fn,cc)\n",
      "with open(fn_out) as csvfile:\n",
      "    datareader2 = csv.reader(csvfile)\n",
      "    header2 = datareader2.next()\n",
      "    header2=header2[5]\n",
      "    numrows=sum(1 for row in datareader2)\n",
      "    classes = np.empty((numrows,1))\n",
      "    for i, row in enumerate(datareader2):\n",
      "        row = [float(entry) for entry in row]\n",
      "        classes[i] = row[5]"
     ],
     "language": "python",
     "metadata": {},
     "outputs": [],
     "prompt_number": 20
    },
    {
     "cell_type": "code",
     "collapsed": false,
     "input": [
      "x=experiments\n",
      "y=classes"
     ],
     "language": "python",
     "metadata": {},
     "outputs": [],
     "prompt_number": 21
    },
    {
     "cell_type": "code",
     "collapsed": false,
     "input": [
      "mass_min = 0.05\n",
      "clf = tree.DecisionTreeClassifier(min_samples_leaf=int(mass_min*x.shape[0]))\n",
      "clf = clf.fit(x,y)"
     ],
     "language": "python",
     "metadata": {},
     "outputs": [],
     "prompt_number": 24
    },
    {
     "cell_type": "code",
     "collapsed": false,
     "input": [
      "from IPython.display import Image \n",
      "import StringIO, pydot \n",
      "\n",
      "dot_data = StringIO.StringIO() \n",
      "tree.export_graphviz(clf, out_file=dot_data, feature_names=header) \n",
      "graph = pydot.graph_from_dot_data(dot_data.getvalue()) \n",
      "Image(graph.create_png())"
     ],
     "language": "python",
     "metadata": {},
     "outputs": [
      {
       "metadata": {},
       "output_type": "pyout",
       "png": "[encoded data removed]",
       "prompt_number": 25,
       "text": [
        "<IPython.core.display.Image at 0x5b4d5b0>"
       ]
      }
     ],
     "prompt_number": 25
    },
    {
     "cell_type": "code",
     "collapsed": false,
     "input": [],
     "language": "python",
     "metadata": {},
     "outputs": []
    }
   ],
   "metadata": {}
  }
 ]
}